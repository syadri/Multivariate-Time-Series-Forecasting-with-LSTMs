{
  "nbformat": 4,
  "nbformat_minor": 0,
  "metadata": {
    "colab": {
      "provenance": [],
      "authorship_tag": "ABX9TyNHxp9XoAb1LwIQMUm3YDYn",
      "include_colab_link": true
    },
    "kernelspec": {
      "name": "python3",
      "display_name": "Python 3"
    },
    "language_info": {
      "name": "python"
    }
  },
  "cells": [
    {
      "cell_type": "markdown",
      "metadata": {
        "id": "view-in-github",
        "colab_type": "text"
      },
      "source": [
        "<a href=\"https://colab.research.google.com/github/syadri/Multivariate-Time-Series-Forecasting-with-LSTMs/blob/main/10_mins_Forecasts_Final_LSTM_Multistep.ipynb\" target=\"_parent\"><img src=\"https://colab.research.google.com/assets/colab-badge.svg\" alt=\"Open In Colab\"/></a>"
      ]
    },
    {
      "cell_type": "code",
      "execution_count": 1,
      "metadata": {
        "colab": {
          "base_uri": "https://localhost:8080/",
          "height": 237
        },
        "id": "XPjFhlVH9U9A",
        "outputId": "8dc71045-b85a-486a-ba4d-4ae40a573b6d"
      },
      "outputs": [
        {
          "output_type": "execute_result",
          "data": {
            "text/plain": [
              "                     power\n",
              "datetime                  \n",
              "2021-07-16 01:01:00   3.50\n",
              "2021-07-16 01:02:00   3.57\n",
              "2021-07-16 01:03:00   3.45\n",
              "2021-07-16 01:04:00  30.38\n",
              "2021-07-16 01:05:00  29.93"
            ],
            "text/html": [
              "\n",
              "  <div id=\"df-ee212800-25c8-4968-8895-98b7344bdbc4\">\n",
              "    <div class=\"colab-df-container\">\n",
              "      <div>\n",
              "<style scoped>\n",
              "    .dataframe tbody tr th:only-of-type {\n",
              "        vertical-align: middle;\n",
              "    }\n",
              "\n",
              "    .dataframe tbody tr th {\n",
              "        vertical-align: top;\n",
              "    }\n",
              "\n",
              "    .dataframe thead th {\n",
              "        text-align: right;\n",
              "    }\n",
              "</style>\n",
              "<table border=\"1\" class=\"dataframe\">\n",
              "  <thead>\n",
              "    <tr style=\"text-align: right;\">\n",
              "      <th></th>\n",
              "      <th>power</th>\n",
              "    </tr>\n",
              "    <tr>\n",
              "      <th>datetime</th>\n",
              "      <th></th>\n",
              "    </tr>\n",
              "  </thead>\n",
              "  <tbody>\n",
              "    <tr>\n",
              "      <th>2021-07-16 01:01:00</th>\n",
              "      <td>3.50</td>\n",
              "    </tr>\n",
              "    <tr>\n",
              "      <th>2021-07-16 01:02:00</th>\n",
              "      <td>3.57</td>\n",
              "    </tr>\n",
              "    <tr>\n",
              "      <th>2021-07-16 01:03:00</th>\n",
              "      <td>3.45</td>\n",
              "    </tr>\n",
              "    <tr>\n",
              "      <th>2021-07-16 01:04:00</th>\n",
              "      <td>30.38</td>\n",
              "    </tr>\n",
              "    <tr>\n",
              "      <th>2021-07-16 01:05:00</th>\n",
              "      <td>29.93</td>\n",
              "    </tr>\n",
              "  </tbody>\n",
              "</table>\n",
              "</div>\n",
              "      <button class=\"colab-df-convert\" onclick=\"convertToInteractive('df-ee212800-25c8-4968-8895-98b7344bdbc4')\"\n",
              "              title=\"Convert this dataframe to an interactive table.\"\n",
              "              style=\"display:none;\">\n",
              "        \n",
              "  <svg xmlns=\"http://www.w3.org/2000/svg\" height=\"24px\"viewBox=\"0 0 24 24\"\n",
              "       width=\"24px\">\n",
              "    <path d=\"M0 0h24v24H0V0z\" fill=\"none\"/>\n",
              "    <path d=\"M18.56 5.44l.94 2.06.94-2.06 2.06-.94-2.06-.94-.94-2.06-.94 2.06-2.06.94zm-11 1L8.5 8.5l.94-2.06 2.06-.94-2.06-.94L8.5 2.5l-.94 2.06-2.06.94zm10 10l.94 2.06.94-2.06 2.06-.94-2.06-.94-.94-2.06-.94 2.06-2.06.94z\"/><path d=\"M17.41 7.96l-1.37-1.37c-.4-.4-.92-.59-1.43-.59-.52 0-1.04.2-1.43.59L10.3 9.45l-7.72 7.72c-.78.78-.78 2.05 0 2.83L4 21.41c.39.39.9.59 1.41.59.51 0 1.02-.2 1.41-.59l7.78-7.78 2.81-2.81c.8-.78.8-2.07 0-2.86zM5.41 20L4 18.59l7.72-7.72 1.47 1.35L5.41 20z\"/>\n",
              "  </svg>\n",
              "      </button>\n",
              "      \n",
              "  <style>\n",
              "    .colab-df-container {\n",
              "      display:flex;\n",
              "      flex-wrap:wrap;\n",
              "      gap: 12px;\n",
              "    }\n",
              "\n",
              "    .colab-df-convert {\n",
              "      background-color: #E8F0FE;\n",
              "      border: none;\n",
              "      border-radius: 50%;\n",
              "      cursor: pointer;\n",
              "      display: none;\n",
              "      fill: #1967D2;\n",
              "      height: 32px;\n",
              "      padding: 0 0 0 0;\n",
              "      width: 32px;\n",
              "    }\n",
              "\n",
              "    .colab-df-convert:hover {\n",
              "      background-color: #E2EBFA;\n",
              "      box-shadow: 0px 1px 2px rgba(60, 64, 67, 0.3), 0px 1px 3px 1px rgba(60, 64, 67, 0.15);\n",
              "      fill: #174EA6;\n",
              "    }\n",
              "\n",
              "    [theme=dark] .colab-df-convert {\n",
              "      background-color: #3B4455;\n",
              "      fill: #D2E3FC;\n",
              "    }\n",
              "\n",
              "    [theme=dark] .colab-df-convert:hover {\n",
              "      background-color: #434B5C;\n",
              "      box-shadow: 0px 1px 3px 1px rgba(0, 0, 0, 0.15);\n",
              "      filter: drop-shadow(0px 1px 2px rgba(0, 0, 0, 0.3));\n",
              "      fill: #FFFFFF;\n",
              "    }\n",
              "  </style>\n",
              "\n",
              "      <script>\n",
              "        const buttonEl =\n",
              "          document.querySelector('#df-ee212800-25c8-4968-8895-98b7344bdbc4 button.colab-df-convert');\n",
              "        buttonEl.style.display =\n",
              "          google.colab.kernel.accessAllowed ? 'block' : 'none';\n",
              "\n",
              "        async function convertToInteractive(key) {\n",
              "          const element = document.querySelector('#df-ee212800-25c8-4968-8895-98b7344bdbc4');\n",
              "          const dataTable =\n",
              "            await google.colab.kernel.invokeFunction('convertToInteractive',\n",
              "                                                     [key], {});\n",
              "          if (!dataTable) return;\n",
              "\n",
              "          const docLinkHtml = 'Like what you see? Visit the ' +\n",
              "            '<a target=\"_blank\" href=https://colab.research.google.com/notebooks/data_table.ipynb>data table notebook</a>'\n",
              "            + ' to learn more about interactive tables.';\n",
              "          element.innerHTML = '';\n",
              "          dataTable['output_type'] = 'display_data';\n",
              "          await google.colab.output.renderOutput(dataTable, element);\n",
              "          const docLink = document.createElement('div');\n",
              "          docLink.innerHTML = docLinkHtml;\n",
              "          element.appendChild(docLink);\n",
              "        }\n",
              "      </script>\n",
              "    </div>\n",
              "  </div>\n",
              "  "
            ]
          },
          "metadata": {},
          "execution_count": 1
        }
      ],
      "source": [
        "# load and clean-up data\n",
        "from numpy import nan\n",
        "from numpy import isnan\n",
        "import pandas as pd\n",
        "from pandas import read_csv\n",
        "from pandas import to_numeric\n",
        "# load all data\n",
        "dataset = read_csv('/content/new_data.csv', low_memory=False, infer_datetime_format=True)\n",
        "\n",
        "dataset.columns = ['datetime', 'power']\n",
        "\n",
        "format = '%Y-%m-%d %H:%M:%S'\n",
        "\n",
        "dataset['datetime'] = pd.to_datetime(dataset['datetime'], format=format)\n",
        "\n",
        "dataset = dataset.set_index(pd.DatetimeIndex(dataset['datetime']))\n",
        "\n",
        "dataset = dataset.drop(['datetime'], axis=1)\n",
        "\n",
        "# dataset['datetime']\n",
        "dataset.head()\n",
        "\n"
      ]
    },
    {
      "cell_type": "code",
      "source": [
        "# Resample data into 10 minute observations -- sampling interval of 10 minutes\n",
        "# resample data to 10 minutes\n",
        "ten_groups = dataset.resample('10T')\n",
        "ten_data = ten_groups.sum()\n",
        "# summarize\n",
        "print(ten_data.shape)\n",
        "print(ten_data.head())\n",
        "# save\n",
        "ten_data.to_csv('10min_samples.csv', index=False)"
      ],
      "metadata": {
        "colab": {
          "base_uri": "https://localhost:8080/"
        },
        "id": "L577WABWQVIm",
        "outputId": "43807962-7af8-43c1-b8ae-a5c0a26e02f9"
      },
      "execution_count": 2,
      "outputs": [
        {
          "output_type": "stream",
          "name": "stdout",
          "text": [
            "(715, 1)\n",
            "                      power\n",
            "datetime                   \n",
            "2021-07-16 01:00:00  183.95\n",
            "2021-07-16 01:10:00  259.25\n",
            "2021-07-16 01:20:00  199.46\n",
            "2021-07-16 01:30:00  183.64\n",
            "2021-07-16 01:40:00  170.53\n"
          ]
        }
      ]
    },
    {
      "cell_type": "code",
      "source": [
        "ten_data.tail()"
      ],
      "metadata": {
        "colab": {
          "base_uri": "https://localhost:8080/",
          "height": 237
        },
        "id": "KEgh1lXKhFgA",
        "outputId": "f282a619-f6d2-422c-d303-e95745ba5f8e"
      },
      "execution_count": 4,
      "outputs": [
        {
          "output_type": "execute_result",
          "data": {
            "text/plain": [
              "                     power\n",
              "datetime                  \n",
              "2021-07-20 23:20:00   2.45\n",
              "2021-07-20 23:30:00   0.38\n",
              "2021-07-20 23:40:00   0.38\n",
              "2021-07-20 23:50:00   0.34\n",
              "2021-07-21 00:00:00   0.03"
            ],
            "text/html": [
              "\n",
              "  <div id=\"df-c9eeb535-a826-47b7-ae17-3559e158bdef\">\n",
              "    <div class=\"colab-df-container\">\n",
              "      <div>\n",
              "<style scoped>\n",
              "    .dataframe tbody tr th:only-of-type {\n",
              "        vertical-align: middle;\n",
              "    }\n",
              "\n",
              "    .dataframe tbody tr th {\n",
              "        vertical-align: top;\n",
              "    }\n",
              "\n",
              "    .dataframe thead th {\n",
              "        text-align: right;\n",
              "    }\n",
              "</style>\n",
              "<table border=\"1\" class=\"dataframe\">\n",
              "  <thead>\n",
              "    <tr style=\"text-align: right;\">\n",
              "      <th></th>\n",
              "      <th>power</th>\n",
              "    </tr>\n",
              "    <tr>\n",
              "      <th>datetime</th>\n",
              "      <th></th>\n",
              "    </tr>\n",
              "  </thead>\n",
              "  <tbody>\n",
              "    <tr>\n",
              "      <th>2021-07-20 23:20:00</th>\n",
              "      <td>2.45</td>\n",
              "    </tr>\n",
              "    <tr>\n",
              "      <th>2021-07-20 23:30:00</th>\n",
              "      <td>0.38</td>\n",
              "    </tr>\n",
              "    <tr>\n",
              "      <th>2021-07-20 23:40:00</th>\n",
              "      <td>0.38</td>\n",
              "    </tr>\n",
              "    <tr>\n",
              "      <th>2021-07-20 23:50:00</th>\n",
              "      <td>0.34</td>\n",
              "    </tr>\n",
              "    <tr>\n",
              "      <th>2021-07-21 00:00:00</th>\n",
              "      <td>0.03</td>\n",
              "    </tr>\n",
              "  </tbody>\n",
              "</table>\n",
              "</div>\n",
              "      <button class=\"colab-df-convert\" onclick=\"convertToInteractive('df-c9eeb535-a826-47b7-ae17-3559e158bdef')\"\n",
              "              title=\"Convert this dataframe to an interactive table.\"\n",
              "              style=\"display:none;\">\n",
              "        \n",
              "  <svg xmlns=\"http://www.w3.org/2000/svg\" height=\"24px\"viewBox=\"0 0 24 24\"\n",
              "       width=\"24px\">\n",
              "    <path d=\"M0 0h24v24H0V0z\" fill=\"none\"/>\n",
              "    <path d=\"M18.56 5.44l.94 2.06.94-2.06 2.06-.94-2.06-.94-.94-2.06-.94 2.06-2.06.94zm-11 1L8.5 8.5l.94-2.06 2.06-.94-2.06-.94L8.5 2.5l-.94 2.06-2.06.94zm10 10l.94 2.06.94-2.06 2.06-.94-2.06-.94-.94-2.06-.94 2.06-2.06.94z\"/><path d=\"M17.41 7.96l-1.37-1.37c-.4-.4-.92-.59-1.43-.59-.52 0-1.04.2-1.43.59L10.3 9.45l-7.72 7.72c-.78.78-.78 2.05 0 2.83L4 21.41c.39.39.9.59 1.41.59.51 0 1.02-.2 1.41-.59l7.78-7.78 2.81-2.81c.8-.78.8-2.07 0-2.86zM5.41 20L4 18.59l7.72-7.72 1.47 1.35L5.41 20z\"/>\n",
              "  </svg>\n",
              "      </button>\n",
              "      \n",
              "  <style>\n",
              "    .colab-df-container {\n",
              "      display:flex;\n",
              "      flex-wrap:wrap;\n",
              "      gap: 12px;\n",
              "    }\n",
              "\n",
              "    .colab-df-convert {\n",
              "      background-color: #E8F0FE;\n",
              "      border: none;\n",
              "      border-radius: 50%;\n",
              "      cursor: pointer;\n",
              "      display: none;\n",
              "      fill: #1967D2;\n",
              "      height: 32px;\n",
              "      padding: 0 0 0 0;\n",
              "      width: 32px;\n",
              "    }\n",
              "\n",
              "    .colab-df-convert:hover {\n",
              "      background-color: #E2EBFA;\n",
              "      box-shadow: 0px 1px 2px rgba(60, 64, 67, 0.3), 0px 1px 3px 1px rgba(60, 64, 67, 0.15);\n",
              "      fill: #174EA6;\n",
              "    }\n",
              "\n",
              "    [theme=dark] .colab-df-convert {\n",
              "      background-color: #3B4455;\n",
              "      fill: #D2E3FC;\n",
              "    }\n",
              "\n",
              "    [theme=dark] .colab-df-convert:hover {\n",
              "      background-color: #434B5C;\n",
              "      box-shadow: 0px 1px 3px 1px rgba(0, 0, 0, 0.15);\n",
              "      filter: drop-shadow(0px 1px 2px rgba(0, 0, 0, 0.3));\n",
              "      fill: #FFFFFF;\n",
              "    }\n",
              "  </style>\n",
              "\n",
              "      <script>\n",
              "        const buttonEl =\n",
              "          document.querySelector('#df-c9eeb535-a826-47b7-ae17-3559e158bdef button.colab-df-convert');\n",
              "        buttonEl.style.display =\n",
              "          google.colab.kernel.accessAllowed ? 'block' : 'none';\n",
              "\n",
              "        async function convertToInteractive(key) {\n",
              "          const element = document.querySelector('#df-c9eeb535-a826-47b7-ae17-3559e158bdef');\n",
              "          const dataTable =\n",
              "            await google.colab.kernel.invokeFunction('convertToInteractive',\n",
              "                                                     [key], {});\n",
              "          if (!dataTable) return;\n",
              "\n",
              "          const docLinkHtml = 'Like what you see? Visit the ' +\n",
              "            '<a target=\"_blank\" href=https://colab.research.google.com/notebooks/data_table.ipynb>data table notebook</a>'\n",
              "            + ' to learn more about interactive tables.';\n",
              "          element.innerHTML = '';\n",
              "          dataTable['output_type'] = 'display_data';\n",
              "          await google.colab.output.renderOutput(dataTable, element);\n",
              "          const docLink = document.createElement('div');\n",
              "          docLink.innerHTML = docLinkHtml;\n",
              "          element.appendChild(docLink);\n",
              "        }\n",
              "      </script>\n",
              "    </div>\n",
              "  </div>\n",
              "  "
            ]
          },
          "metadata": {},
          "execution_count": 4
        }
      ]
    },
    {
      "cell_type": "code",
      "source": [
        "# evaluate one or more weekly forecasts against expected values\n",
        "from sklearn.metrics import mean_squared_error\n",
        "from math import sqrt\n",
        "def evaluate_forecasts(actual, predicted):\n",
        "\tscores = list()\n",
        "\t# calculate an RMSE score for each day\n",
        "\tfor i in range(actual.shape[1]):\n",
        "\t\t# calculate mse\n",
        "\t\tmse = mean_squared_error(actual[:, i], predicted[:, i])\n",
        "\t\t# calculate rmse\n",
        "\t\trmse = sqrt(mse)\n",
        "\t\t# store\n",
        "\t\tscores.append(rmse)\n",
        "\t# calculate overall RMSE\n",
        "\ts = 0\n",
        "\tfor row in range(actual.shape[0]):\n",
        "\t\tfor col in range(actual.shape[1]):\n",
        "\t\t\ts += (actual[row, col] - predicted[row, col])**2\n",
        "\tscore = sqrt(s / (actual.shape[0] * actual.shape[1]))\n",
        "\treturn score, scores"
      ],
      "metadata": {
        "id": "L7NMWvHaWEJS"
      },
      "execution_count": 3,
      "outputs": []
    },
    {
      "cell_type": "code",
      "source": [
        "data = ten_data.copy()\n",
        "\n",
        "data.head()"
      ],
      "metadata": {
        "id": "QKrqiFqmjjDz"
      },
      "execution_count": null,
      "outputs": []
    },
    {
      "cell_type": "markdown",
      "source": [
        "##Splitting Dataset\n",
        "\n",
        "---\n",
        "\n"
      ],
      "metadata": {
        "id": "P0Wiph98CJRZ"
      }
    },
    {
      "cell_type": "code",
      "source": [
        "# we have 715 total observations now over the course of 5 days 16th to 21st\n",
        "\n",
        "# split into standard 10 minutes\n",
        "from numpy import split\n",
        "from numpy import array\n",
        "\n",
        "# 1 day == 1440 minutes. 144 - 10 minute intervals So 4 days == 144*4 == 576\n",
        "\n",
        "\n",
        "\n",
        "# split a univariate dataset into train/test sets\n",
        "def split_dataset(data):\n",
        "\t# split into days -- 144 total observations per day(10 minute intervals) || Using first 4 days (144*4) for training a last 144 for testing\n",
        "\t# Make it devisible by 10, so first 570 observations for training and next 140 for testing. we leave out the ramining 50 minute observations\n",
        "\n",
        " # So we take 140 since 145 is not equally divisible by 10 and we leave out the last 5 (5*10 mins)\n",
        "\ttrain, test = data[:570], data[570:710]\n",
        "\t# restructure into windows of daily data\n",
        "  #Since we have 4 days of training data, resampled into 10 minute intervals we devide by 10\n",
        "\ttrain = array(split(train, len(train)/10))\n",
        "\ttest = array(split(test, len(test)/10))\n",
        "\n",
        "  # print(len(train))\n",
        "\treturn train, test\n",
        "\n",
        "train, test = split_dataset(data.values)\n",
        "\n",
        "# # validate train data\n",
        "print(train.shape)\n",
        "\n",
        "# # validate test\n",
        "print(test.shape)\n",
        "\n",
        "\n"
      ],
      "metadata": {
        "colab": {
          "base_uri": "https://localhost:8080/"
        },
        "id": "lh02gADGG6G0",
        "outputId": "7bcb69e1-e0ca-4eab-c629-bdff7c7ccb60"
      },
      "execution_count": 10,
      "outputs": [
        {
          "output_type": "stream",
          "name": "stdout",
          "text": [
            "(57, 10, 1)\n",
            "(14, 10, 1)\n"
          ]
        }
      ]
    },
    {
      "cell_type": "code",
      "source": [
        "# We can see that the total active power for the train and test dataset for the first and last rows\n",
        "# match the data for the specific dates that we defined as the bounds on the standard weeks for each set.\n",
        "\n",
        "print(train[0, 0, 0], train[-1, -1, 0], sep='\\n')"
      ],
      "metadata": {
        "colab": {
          "base_uri": "https://localhost:8080/"
        },
        "id": "YgAnsUeEb5yq",
        "outputId": "a8c1ce78-1738-4280-9563-7b6ece486359"
      },
      "execution_count": 11,
      "outputs": [
        {
          "output_type": "stream",
          "name": "stdout",
          "text": [
            "183.95\n",
            "3.06\n"
          ]
        }
      ]
    },
    {
      "cell_type": "markdown",
      "source": [
        "## Building the model"
      ],
      "metadata": {
        "id": "lgzQifeGl3Mx"
      }
    },
    {
      "cell_type": "code",
      "source": [
        "import numpy as np\n",
        "import pandas as pd\n",
        "import matplotlib.pyplot as plt\n",
        "from keras.models import Sequential\n",
        "from keras.layers import LSTM\n",
        "from keras.layers import Dense\n",
        "from keras.layers import Flatten\n",
        "from keras.layers import RepeatVector\n",
        "from keras.layers import TimeDistributed\n",
        "from keras.layers.convolutional import Conv1D\n",
        "from keras.layers.convolutional import MaxPooling1D\n",
        "\n",
        "\n",
        "def to_supervised(train, n_input, n_out=10):\n",
        "\tdata = train.reshape((train.shape[0]*train.shape[1], 1))\n",
        "\tX, y = list(), list()\n",
        "\tin_start = 0\n",
        "\tfor _ in range(len(data)):\n",
        "\t\tin_end = in_start + n_input\n",
        "\t\tout_end = in_end + n_out\n",
        "\t\tif out_end <= len(data):\n",
        "\t\t\tX.append(data[in_start:in_end, :])\n",
        "\t\t\ty.append(data[in_end:out_end, 0])\n",
        "\t\tin_start += 1\n",
        "\treturn np.array(X), np.array(y)"
      ],
      "metadata": {
        "id": "VpZ6OJPkuE4Q"
      },
      "execution_count": 19,
      "outputs": []
    },
    {
      "cell_type": "code",
      "source": [
        "train, test = split_dataset(ten_data.values)\n",
        "train_x, train_y = to_supervised(train, 10, 10)"
      ],
      "metadata": {
        "id": "m_JtY37quRiE"
      },
      "execution_count": 20,
      "outputs": []
    },
    {
      "cell_type": "code",
      "source": [
        "verbose, epochs, batch_size = 1, 15, 2\n",
        "# choose a number of time steps\n",
        "n_steps = 10\n",
        "# reshape from [samples, timesteps] into [samples, timesteps, features]\n",
        "n_features = 1\n",
        "train_x = train_x.reshape((train_x.shape[0], train_x.shape[1], n_features))\n",
        "# define model\n",
        "model = Sequential()\n",
        "model.add(LSTM(200, activation='relu', input_shape=(n_steps, n_features)))\n",
        "model.add(Dense(100, activation='relu'))\n",
        "model.add(Dense(10))\n",
        "model.compile(optimizer='adam', loss='mse')\n",
        "# fit model\n",
        "model.fit(train_x, train_y, epochs=epochs, batch_size=batch_size, verbose=verbose)\n",
        "# demonstrate prediction"
      ],
      "metadata": {
        "colab": {
          "base_uri": "https://localhost:8080/"
        },
        "id": "5pI52c87ukPU",
        "outputId": "36a5dfa1-180f-4c9b-9e7d-4cb62402e3e0"
      },
      "execution_count": 21,
      "outputs": [
        {
          "output_type": "stream",
          "name": "stdout",
          "text": [
            "Epoch 1/15\n",
            "276/276 [==============================] - 5s 15ms/step - loss: 308976.4688\n",
            "Epoch 2/15\n",
            "276/276 [==============================] - 4s 16ms/step - loss: 145343.0156\n",
            "Epoch 3/15\n",
            "276/276 [==============================] - 4s 14ms/step - loss: 150312.4844\n",
            "Epoch 4/15\n",
            "276/276 [==============================] - 5s 17ms/step - loss: 108762.1641\n",
            "Epoch 5/15\n",
            "276/276 [==============================] - 4s 14ms/step - loss: 129380.2266\n",
            "Epoch 6/15\n",
            "276/276 [==============================] - 4s 14ms/step - loss: 76593.0156\n",
            "Epoch 7/15\n",
            "276/276 [==============================] - 4s 15ms/step - loss: 87584.3203\n",
            "Epoch 8/15\n",
            "276/276 [==============================] - 4s 14ms/step - loss: 641295.2500\n",
            "Epoch 9/15\n",
            "276/276 [==============================] - 4s 15ms/step - loss: 261332.7969\n",
            "Epoch 10/15\n",
            "276/276 [==============================] - 4s 15ms/step - loss: 192093.1406\n",
            "Epoch 11/15\n",
            "276/276 [==============================] - 4s 15ms/step - loss: 224601.1094\n",
            "Epoch 12/15\n",
            "276/276 [==============================] - 4s 15ms/step - loss: 182982.8438\n",
            "Epoch 13/15\n",
            "276/276 [==============================] - 4s 15ms/step - loss: 186594.9062\n",
            "Epoch 14/15\n",
            "276/276 [==============================] - 4s 15ms/step - loss: 135067.7969\n",
            "Epoch 15/15\n",
            "276/276 [==============================] - 4s 15ms/step - loss: 131593.4688\n"
          ]
        },
        {
          "output_type": "execute_result",
          "data": {
            "text/plain": [
              "<keras.callbacks.History at 0x7f013875d070>"
            ]
          },
          "metadata": {},
          "execution_count": 21
        }
      ]
    },
    {
      "cell_type": "code",
      "source": [
        "yhat = model.predict(test[:-1], verbose=verbose)"
      ],
      "metadata": {
        "colab": {
          "base_uri": "https://localhost:8080/"
        },
        "id": "mQHPDPtyvDpu",
        "outputId": "5c3b77b4-d714-40f1-f730-ac5810dcf89a"
      },
      "execution_count": 22,
      "outputs": [
        {
          "output_type": "stream",
          "name": "stdout",
          "text": [
            "1/1 [==============================] - 0s 181ms/step\n"
          ]
        }
      ]
    },
    {
      "cell_type": "code",
      "source": [
        "yy = yhat.flatten()\n",
        "yx = test[1:].flatten()"
      ],
      "metadata": {
        "id": "3QlSET-3vIiU"
      },
      "execution_count": 23,
      "outputs": []
    },
    {
      "cell_type": "code",
      "source": [
        "plt.plot(range(len(yy)), yx, yy)"
      ],
      "metadata": {
        "colab": {
          "base_uri": "https://localhost:8080/",
          "height": 301
        },
        "id": "ZndEsuhhvMLQ",
        "outputId": "ce45123a-8378-46e5-ae42-ae4747b534f2"
      },
      "execution_count": 24,
      "outputs": [
        {
          "output_type": "execute_result",
          "data": {
            "text/plain": [
              "[<matplotlib.lines.Line2D at 0x7f01383b3f70>,\n",
              " <matplotlib.lines.Line2D at 0x7f01383b3fa0>]"
            ]
          },
          "metadata": {},
          "execution_count": 24
        },
        {
          "output_type": "display_data",
          "data": {
            "text/plain": [
              "<Figure size 432x288 with 1 Axes>"
            ],
            "image/png": "[encoded data removed]"
          },
          "metadata": {
            "needs_background": "light"
          }
        }
      ]
    },
    {
      "cell_type": "code",
      "source": [
        "# Save to DataFrame and then to file\n",
        "\n",
        "new_df = pd.DataFrame()\n",
        "\n",
        "new_df['Actual'] = yx\n",
        "new_df['Predicted'] = yy\n",
        "new_df.to_csv('./predicted_vals.csv')"
      ],
      "metadata": {
        "id": "YesH8nbmvRXx"
      },
      "execution_count": 25,
      "outputs": []
    }
  ]
}